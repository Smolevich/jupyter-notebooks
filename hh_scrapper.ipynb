{
 "cells": [
  {
   "cell_type": "code",
   "id": "initial_id",
   "metadata": {
    "collapsed": true,
    "ExecuteTime": {
     "end_time": "2025-02-09T11:27:23.328153Z",
     "start_time": "2025-02-09T11:27:23.315191Z"
    }
   },
   "source": [
    "from bs4 import BeautifulSoup\n",
    "import pandas as pd\n",
    "import time\n",
    "import os\n",
    "from selenium import webdriver\n",
    "from tqdm import tqdm \n",
    "from selenium.webdriver.common.by import By\n",
    "from selenium.webdriver.chrome.service import Service\n",
    "from selenium.webdriver.support.ui import WebDriverWait\n",
    "from selenium.webdriver.support import expected_conditions as EC\n",
    "from webdriver_manager.chrome import ChromeDriverManager"
   ],
   "outputs": [],
   "execution_count": 48
  },
  {
   "metadata": {
    "ExecuteTime": {
     "end_time": "2025-02-09T11:27:25.596922Z",
     "start_time": "2025-02-09T11:27:24.125502Z"
    }
   },
   "cell_type": "code",
   "source": [
    "# WebDriver configuration with automatic ChromeDriver installation\n",
    "options = webdriver.ChromeOptions()\n",
    "options.add_argument(\"--headless\")  # Run without opening the browser window\n",
    "options.add_argument(\"--no-sandbox\")\n",
    "options.add_argument(\"--disable-dev-shm-usage\")\n",
    "\n",
    "driver = webdriver.Chrome(service=Service(ChromeDriverManager().install()), options=options)"
   ],
   "id": "c34a561de4e8a62c",
   "outputs": [],
   "execution_count": 49
  },
  {
   "metadata": {
    "ExecuteTime": {
     "end_time": "2025-02-09T11:27:27.827432Z",
     "start_time": "2025-02-09T11:27:27.823543Z"
    }
   },
   "cell_type": "code",
   "source": [
    "# 🔧 Config\n",
    "SAVE_HTML = True  # Flag for saving HTML pages\n",
    "WAIT_TIME = 0.5   # Таймаут в секундах"
   ],
   "id": "aba9f2b00dcd58d9",
   "outputs": [],
   "execution_count": 50
  },
  {
   "cell_type": "code",
   "id": "5af2d1f93d7658fa",
   "metadata": {
    "ExecuteTime": {
     "end_time": "2025-02-09T11:29:11.505683Z",
     "start_time": "2025-02-09T11:27:28.677710Z"
    }
   },
   "source": [
    "# 📥 Save HTML for analysis (if flag is enabled)\n",
    "def save_html(page_source, page):\n",
    "    if SAVE_HTML:\n",
    "        folder_path = os.path.expanduser(\"~/pet-projects/jupyter-notebooks/data/hh_pages\")\n",
    "        os.makedirs(folder_path, exist_ok=True)\n",
    "        file_path = os.path.join(folder_path, f\"page_{page}.html\")\n",
    "        with open(file_path, \"w\", encoding=\"utf-8\") as file:\n",
    "            file.write(page_source)\n",
    "        print(f\"✅ HTML of page {page + 1} saved to {file_path}\")\n",
    "\n",
    "# 🔄 Scroll through the page to load all vacancies\n",
    "def scroll_to_load_all_vacancies(driver):\n",
    "    last_height = driver.execute_script(\"return document.body.scrollHeight\")\n",
    "    scroll_attempts = 0\n",
    "\n",
    "    while scroll_attempts < 10:\n",
    "        driver.execute_script(\"window.scrollTo(0, document.body.scrollHeight);\")\n",
    "        time.sleep(WAIT_TIME)\n",
    "\n",
    "        # Wait for new vacancies to appear (DOM update)\n",
    "        try:\n",
    "            WebDriverWait(driver, 5).until(\n",
    "                EC.presence_of_element_located((By.CSS_SELECTOR, 'div[data-qa^=\"vacancy-serp__vacancy\"]'))\n",
    "            )\n",
    "        except:\n",
    "            pass  # Continue if no new elements are found\n",
    "\n",
    "        new_height = driver.execute_script(\"return document.body.scrollHeight\")\n",
    "\n",
    "        if new_height == last_height:\n",
    "            scroll_attempts += 1\n",
    "        else:\n",
    "            scroll_attempts = 0  # Reset attempts if new elements appeared\n",
    "\n",
    "        last_height = new_height\n",
    "\n",
    "    print(f\"📜 Scrolling completed. Page height: {last_height}\")\n",
    "\n",
    "# 📊 Get vacancies from one page\n",
    "def get_vacancy_links_and_companies(driver, keyword, page):\n",
    "    url = f\"https://hh.ru/search/vacancy?text={keyword}&search_field=name&excluded_text=&salary=&currency_code=RUR&experience=doesNotMatter&order_by=relevance&search_period=0&items_on_page=50&L_save_area=true&page={page}\"\n",
    "    print(f\"\\n🔗 Loading page {page + 1}: {url}\")\n",
    "    \n",
    "    driver.get(url)\n",
    "    # Wait until at least one vacancy appears on the page\n",
    "    try:\n",
    "        WebDriverWait(driver, 10).until(\n",
    "            EC.presence_of_element_located((By.CSS_SELECTOR, 'div[data-qa^=\"vacancy-serp__vacancy\"]'))\n",
    "        )\n",
    "    except:\n",
    "        print(f\"❗ Vacancies not loaded on page {page + 1}\")\n",
    "    scroll_to_load_all_vacancies(driver)\n",
    "    save_html(driver.page_source, page)\n",
    "\n",
    "    soup = BeautifulSoup(driver.page_source, 'html.parser')\n",
    "    results = []\n",
    "\n",
    "    vacancy_blocks = soup.select('div[data-qa^=\"vacancy-serp__vacancy\"]')\n",
    "    print(f\"📦 Found {len(vacancy_blocks)} vacancy blocks on page {page + 1}\")\n",
    "\n",
    "    for vacancy in vacancy_blocks:\n",
    "        link_tag = vacancy.select_one('a[data-qa=\"serp-item__title\"]')\n",
    "        company_tag = vacancy.find('a', {'data-qa': 'vacancy-serp__vacancy-employer'})\n",
    "        title_tag = vacancy.find('span', {'data-qa': 'serp-item__title-text'})  # Job title\n",
    "        address_tag = vacancy.find('span', {'data-qa': 'vacancy-serp__vacancy-address'})  # Address\n",
    "\n",
    "        link = link_tag['href'] if link_tag else \"\"\n",
    "        if link and not link.startswith('http'):\n",
    "            link = f\"https://hh.ru{link}\"\n",
    "\n",
    "        company = company_tag.get_text(strip=True) if company_tag else \"Not specified\"\n",
    "        title = title_tag.get_text(strip=True) if title_tag else \"Title not specified\"\n",
    "        address = address_tag.get_text(strip=True) if address_tag else \"Address not specified\"\n",
    "\n",
    "        if \"adsrv.hh.ru\" not in link:\n",
    "            results.append({\n",
    "                \"Link\": link,\n",
    "                \"Company\": company,\n",
    "                \"Job Title\": title,\n",
    "                \"Address\": address\n",
    "            })\n",
    "\n",
    "    return results\n",
    "\n",
    "# 📄 Get job description\n",
    "def get_vacancy_description(driver, link, index, total):\n",
    "    print(f\"➡️  [{index}/{total}] Loading description: {link}\")\n",
    "    try:\n",
    "        driver.get(link)\n",
    "        time.sleep(WAIT_TIME)\n",
    "\n",
    "        soup = BeautifulSoup(driver.page_source, 'html.parser')\n",
    "        description_classes = [\n",
    "            'g-user-content',\n",
    "            'vacancy-branded-user-content',\n",
    "            'vacancy-description',\n",
    "        ]\n",
    "        for cls in description_classes:\n",
    "            description_tag = soup.find('div', class_=cls) or soup.find('div', {'data-qa': cls})\n",
    "            if description_tag:\n",
    "                return description_tag.get_text(separator=' ', strip=True)\n",
    "    except Exception as e:\n",
    "        print(f\"❌ Error loading description for {link}: {e}\")\n",
    "    \n",
    "    return \"Description not available\"\n",
    "\n",
    "# 🔍 Main function to scrape data\n",
    "def scrape_hh_vacancy_descriptions(keyword):\n",
    "    vacancies_per_page = 50\n",
    "    driver.get(f\"https://hh.ru/search/vacancy?text={keyword}&search_field=name&excluded_text=&salary=&currency_code=RUR&experience=doesNotMatter&order_by=relevance&search_period=0&items_on_page={vacancies_per_page}&L_save_area=true\")\n",
    "    scroll_to_load_all_vacancies(driver)\n",
    "\n",
    "    soup = BeautifulSoup(driver.page_source, 'html.parser')\n",
    "    total_vacancies_tag = soup.select_one('div[data-qa=\"vacancies-search-header\"] h1[data-qa=\"title\"]')\n",
    "    total_vacancies = int(''.join(filter(str.isdigit, total_vacancies_tag.get_text(strip=True)))) if total_vacancies_tag else 0\n",
    "\n",
    "    print(f\"\\n🔍 Total vacancies found: {total_vacancies}\")\n",
    "\n",
    "    total_pages = (total_vacancies // vacancies_per_page) + (1 if total_vacancies % vacancies_per_page > 0 else 0)\n",
    "    print(f\"📄 Total pages: {total_pages}\")\n",
    "\n",
    "    all_vacancies = []\n",
    "    for page in range(total_pages):\n",
    "        vacancies = get_vacancy_links_and_companies(driver, keyword, page)\n",
    "        all_vacancies.extend(vacancies)\n",
    "        time.sleep(WAIT_TIME)\n",
    "\n",
    "    print(f\"\\n📦 Total vacancies to process: {len(all_vacancies)}\")\n",
    "\n",
    "    # Progress bar for loading descriptions\n",
    "    for i, vacancy in enumerate(tqdm(all_vacancies, desc=\"📥 Loading descriptions\", unit=\"vacancy\")):\n",
    "        vacancy['Job Description'] = get_vacancy_description(driver, vacancy['Link'], i + 1, len(all_vacancies))\n",
    "        time.sleep(WAIT_TIME)\n",
    "\n",
    "    df = pd.DataFrame(all_vacancies)\n",
    "    return df\n",
    "\n",
    "# 🚀 Run\n",
    "df_vacancies = scrape_hh_vacancy_descriptions(\"CPO\")\n",
    "df_vacancies.info()\n",
    "\n",
    "# Close the driver\n",
    "driver.quit()"
   ],
   "outputs": [
    {
     "name": "stdout",
     "output_type": "stream",
     "text": [
      "📜 Scrolling completed. Page height: 13059\n",
      "\n",
      "🔍 Total vacancies found: 33\n",
      "📄 Total pages: 1\n",
      "\n",
      "🔗 Loading page 1: https://hh.ru/search/vacancy?text=CPO&search_field=name&excluded_text=&salary=&currency_code=RUR&experience=doesNotMatter&order_by=relevance&search_period=0&items_on_page=50&L_save_area=true&page=0\n",
      "📜 Scrolling completed. Page height: 13069\n",
      "✅ HTML of page 1 saved to /Users/stanislavshupilkin/pet-projects/jupyter-notebooks/data/hh_pages/page_0.html\n",
      "📦 Found 33 vacancy blocks on page 1\n",
      "\n",
      "📦 Total vacancies to process: 33\n"
     ]
    },
    {
     "name": "stderr",
     "output_type": "stream",
     "text": [
      "📥 Loading descriptions:   0%|                                                                                                                                                            | 0/33 [00:00<?, ?vacancy/s]"
     ]
    },
    {
     "name": "stdout",
     "output_type": "stream",
     "text": [
      "➡️  [1/33] Loading description: https://hh.ru/vacancy/115502560?query=CPO&hhtmFrom=vacancy_search_list\n"
     ]
    },
    {
     "name": "stderr",
     "output_type": "stream",
     "text": [
      "📥 Loading descriptions:   3%|████▍                                                                                                                                               | 1/33 [00:02<01:21,  2.54s/vacancy]"
     ]
    },
    {
     "name": "stdout",
     "output_type": "stream",
     "text": [
      "➡️  [2/33] Loading description: https://hh.ru/vacancy/116713032?query=CPO&hhtmFrom=vacancy_search_list\n"
     ]
    },
    {
     "name": "stderr",
     "output_type": "stream",
     "text": [
      "📥 Loading descriptions:   6%|████████▉                                                                                                                                           | 2/33 [00:04<01:10,  2.27s/vacancy]"
     ]
    },
    {
     "name": "stdout",
     "output_type": "stream",
     "text": [
      "➡️  [3/33] Loading description: https://hh.ru/vacancy/116765704?query=CPO&hhtmFrom=vacancy_search_list\n"
     ]
    },
    {
     "name": "stderr",
     "output_type": "stream",
     "text": [
      "📥 Loading descriptions:   9%|█████████████▍                                                                                                                                      | 3/33 [00:06<01:06,  2.23s/vacancy]"
     ]
    },
    {
     "name": "stdout",
     "output_type": "stream",
     "text": [
      "➡️  [4/33] Loading description: https://hh.ru/vacancy/116764654?query=CPO&hhtmFrom=vacancy_search_list\n"
     ]
    },
    {
     "name": "stderr",
     "output_type": "stream",
     "text": [
      "📥 Loading descriptions:  12%|█████████████████▉                                                                                                                                  | 4/33 [00:09<01:09,  2.40s/vacancy]"
     ]
    },
    {
     "name": "stdout",
     "output_type": "stream",
     "text": [
      "➡️  [5/33] Loading description: https://hh.ru/vacancy/116378472?query=CPO&hhtmFrom=vacancy_search_list\n"
     ]
    },
    {
     "name": "stderr",
     "output_type": "stream",
     "text": [
      "📥 Loading descriptions:  15%|██████████████████████▍                                                                                                                             | 5/33 [00:11<01:01,  2.18s/vacancy]"
     ]
    },
    {
     "name": "stdout",
     "output_type": "stream",
     "text": [
      "➡️  [6/33] Loading description: https://hh.ru/vacancy/116855014?query=CPO&hhtmFrom=vacancy_search_list\n"
     ]
    },
    {
     "name": "stderr",
     "output_type": "stream",
     "text": [
      "📥 Loading descriptions:  18%|██████████████████████████▉                                                                                                                         | 6/33 [00:13<00:57,  2.14s/vacancy]"
     ]
    },
    {
     "name": "stdout",
     "output_type": "stream",
     "text": [
      "➡️  [7/33] Loading description: https://hh.ru/vacancy/115052808?query=CPO&hhtmFrom=vacancy_search_list\n"
     ]
    },
    {
     "name": "stderr",
     "output_type": "stream",
     "text": [
      "📥 Loading descriptions:  21%|███████████████████████████████▍                                                                                                                    | 7/33 [00:15<00:57,  2.21s/vacancy]"
     ]
    },
    {
     "name": "stdout",
     "output_type": "stream",
     "text": [
      "➡️  [8/33] Loading description: https://hh.ru/vacancy/113713406?query=CPO&hhtmFrom=vacancy_search_list\n"
     ]
    },
    {
     "name": "stderr",
     "output_type": "stream",
     "text": [
      "📥 Loading descriptions:  24%|███████████████████████████████████▉                                                                                                                | 8/33 [00:17<00:54,  2.17s/vacancy]"
     ]
    },
    {
     "name": "stdout",
     "output_type": "stream",
     "text": [
      "➡️  [9/33] Loading description: https://hh.ru/vacancy/116525081?query=CPO&hhtmFrom=vacancy_search_list\n"
     ]
    },
    {
     "name": "stderr",
     "output_type": "stream",
     "text": [
      "📥 Loading descriptions:  27%|████████████████████████████████████████▎                                                                                                           | 9/33 [00:19<00:51,  2.13s/vacancy]"
     ]
    },
    {
     "name": "stdout",
     "output_type": "stream",
     "text": [
      "➡️  [10/33] Loading description: https://hh.ru/vacancy/116674496?query=CPO&hhtmFrom=vacancy_search_list\n"
     ]
    },
    {
     "name": "stderr",
     "output_type": "stream",
     "text": [
      "📥 Loading descriptions:  30%|████████████████████████████████████████████▌                                                                                                      | 10/33 [00:21<00:49,  2.14s/vacancy]"
     ]
    },
    {
     "name": "stdout",
     "output_type": "stream",
     "text": [
      "➡️  [11/33] Loading description: https://hh.ru/vacancy/115798845?query=CPO&hhtmFrom=vacancy_search_list\n"
     ]
    },
    {
     "name": "stderr",
     "output_type": "stream",
     "text": [
      "📥 Loading descriptions:  33%|█████████████████████████████████████████████████                                                                                                  | 11/33 [00:25<00:56,  2.58s/vacancy]"
     ]
    },
    {
     "name": "stdout",
     "output_type": "stream",
     "text": [
      "➡️  [12/33] Loading description: https://hh.ru/vacancy/116083729?query=CPO&hhtmFrom=vacancy_search_list\n"
     ]
    },
    {
     "name": "stderr",
     "output_type": "stream",
     "text": [
      "📥 Loading descriptions:  36%|█████████████████████████████████████████████████████▍                                                                                             | 12/33 [00:28<00:55,  2.62s/vacancy]"
     ]
    },
    {
     "name": "stdout",
     "output_type": "stream",
     "text": [
      "➡️  [13/33] Loading description: https://hh.ru/vacancy/116440886?query=CPO&hhtmFrom=vacancy_search_list\n"
     ]
    },
    {
     "name": "stderr",
     "output_type": "stream",
     "text": [
      "📥 Loading descriptions:  39%|█████████████████████████████████████████████████████████▉                                                                                         | 13/33 [00:30<00:49,  2.47s/vacancy]"
     ]
    },
    {
     "name": "stdout",
     "output_type": "stream",
     "text": [
      "➡️  [14/33] Loading description: https://hh.ru/vacancy/116846363?query=CPO&hhtmFrom=vacancy_search_list\n"
     ]
    },
    {
     "name": "stderr",
     "output_type": "stream",
     "text": [
      "📥 Loading descriptions:  42%|██████████████████████████████████████████████████████████████▎                                                                                    | 14/33 [00:32<00:45,  2.38s/vacancy]"
     ]
    },
    {
     "name": "stdout",
     "output_type": "stream",
     "text": [
      "➡️  [15/33] Loading description: https://hh.ru/vacancy/115620446?query=CPO&hhtmFrom=vacancy_search_list\n"
     ]
    },
    {
     "name": "stderr",
     "output_type": "stream",
     "text": [
      "📥 Loading descriptions:  45%|██████████████████████████████████████████████████████████████████▊                                                                                | 15/33 [00:34<00:41,  2.30s/vacancy]"
     ]
    },
    {
     "name": "stdout",
     "output_type": "stream",
     "text": [
      "➡️  [16/33] Loading description: https://hh.ru/vacancy/116835449?query=CPO&hhtmFrom=vacancy_search_list\n"
     ]
    },
    {
     "name": "stderr",
     "output_type": "stream",
     "text": [
      "📥 Loading descriptions:  48%|███████████████████████████████████████████████████████████████████████▎                                                                           | 16/33 [00:38<00:45,  2.68s/vacancy]"
     ]
    },
    {
     "name": "stdout",
     "output_type": "stream",
     "text": [
      "➡️  [17/33] Loading description: https://hh.ru/vacancy/115767697?query=CPO&hhtmFrom=vacancy_search_list\n"
     ]
    },
    {
     "name": "stderr",
     "output_type": "stream",
     "text": [
      "📥 Loading descriptions:  52%|███████████████████████████████████████████████████████████████████████████▋                                                                       | 17/33 [00:41<00:45,  2.84s/vacancy]"
     ]
    },
    {
     "name": "stdout",
     "output_type": "stream",
     "text": [
      "➡️  [18/33] Loading description: https://hh.ru/vacancy/116010304?query=CPO&hhtmFrom=vacancy_search_list\n"
     ]
    },
    {
     "name": "stderr",
     "output_type": "stream",
     "text": [
      "📥 Loading descriptions:  55%|████████████████████████████████████████████████████████████████████████████████▏                                                                  | 18/33 [00:44<00:43,  2.88s/vacancy]"
     ]
    },
    {
     "name": "stdout",
     "output_type": "stream",
     "text": [
      "➡️  [19/33] Loading description: https://hh.ru/vacancy/116387434?query=CPO&hhtmFrom=vacancy_search_list\n"
     ]
    },
    {
     "name": "stderr",
     "output_type": "stream",
     "text": [
      "📥 Loading descriptions:  58%|████████████████████████████████████████████████████████████████████████████████████▋                                                              | 19/33 [00:46<00:36,  2.59s/vacancy]"
     ]
    },
    {
     "name": "stdout",
     "output_type": "stream",
     "text": [
      "➡️  [20/33] Loading description: https://hh.ru/vacancy/116509179?query=CPO&hhtmFrom=vacancy_search_list\n"
     ]
    },
    {
     "name": "stderr",
     "output_type": "stream",
     "text": [
      "📥 Loading descriptions:  61%|█████████████████████████████████████████████████████████████████████████████████████████                                                          | 20/33 [00:48<00:31,  2.39s/vacancy]"
     ]
    },
    {
     "name": "stdout",
     "output_type": "stream",
     "text": [
      "➡️  [21/33] Loading description: https://hh.ru/vacancy/115757928?query=CPO&hhtmFrom=vacancy_search_list\n"
     ]
    },
    {
     "name": "stderr",
     "output_type": "stream",
     "text": [
      "📥 Loading descriptions:  64%|█████████████████████████████████████████████████████████████████████████████████████████████▌                                                     | 21/33 [00:51<00:33,  2.77s/vacancy]"
     ]
    },
    {
     "name": "stdout",
     "output_type": "stream",
     "text": [
      "➡️  [22/33] Loading description: https://hh.ru/vacancy/116520725?query=CPO&hhtmFrom=vacancy_search_list\n"
     ]
    },
    {
     "name": "stderr",
     "output_type": "stream",
     "text": [
      "📥 Loading descriptions:  67%|██████████████████████████████████████████████████████████████████████████████████████████████████                                                 | 22/33 [00:53<00:28,  2.57s/vacancy]"
     ]
    },
    {
     "name": "stdout",
     "output_type": "stream",
     "text": [
      "➡️  [23/33] Loading description: https://hh.ru/vacancy/115510506?query=CPO&hhtmFrom=vacancy_search_list\n"
     ]
    },
    {
     "name": "stderr",
     "output_type": "stream",
     "text": [
      "📥 Loading descriptions:  70%|██████████████████████████████████████████████████████████████████████████████████████████████████████▍                                            | 23/33 [00:56<00:24,  2.43s/vacancy]"
     ]
    },
    {
     "name": "stdout",
     "output_type": "stream",
     "text": [
      "➡️  [24/33] Loading description: https://hh.ru/vacancy/116232605?query=CPO&hhtmFrom=vacancy_search_list\n"
     ]
    },
    {
     "name": "stderr",
     "output_type": "stream",
     "text": [
      "📥 Loading descriptions:  73%|██████████████████████████████████████████████████████████████████████████████████████████████████████████▉                                        | 24/33 [00:58<00:22,  2.46s/vacancy]"
     ]
    },
    {
     "name": "stdout",
     "output_type": "stream",
     "text": [
      "➡️  [25/33] Loading description: https://hh.ru/vacancy/113702449?query=CPO&hhtmFrom=vacancy_search_list\n"
     ]
    },
    {
     "name": "stderr",
     "output_type": "stream",
     "text": [
      "📥 Loading descriptions:  76%|███████████████████████████████████████████████████████████████████████████████████████████████████████████████▎                                   | 25/33 [01:01<00:21,  2.67s/vacancy]"
     ]
    },
    {
     "name": "stdout",
     "output_type": "stream",
     "text": [
      "➡️  [26/33] Loading description: https://hh.ru/vacancy/116197235?query=CPO&hhtmFrom=vacancy_search_list\n"
     ]
    },
    {
     "name": "stderr",
     "output_type": "stream",
     "text": [
      "📥 Loading descriptions:  79%|███████████████████████████████████████████████████████████████████████████████████████████████████████████████████▊                               | 26/33 [01:05<00:21,  3.01s/vacancy]"
     ]
    },
    {
     "name": "stdout",
     "output_type": "stream",
     "text": [
      "➡️  [27/33] Loading description: https://hh.ru/vacancy/115719741?query=CPO&hhtmFrom=vacancy_search_list\n"
     ]
    },
    {
     "name": "stderr",
     "output_type": "stream",
     "text": [
      "📥 Loading descriptions:  82%|████████████████████████████████████████████████████████████████████████████████████████████████████████████████████████▎                          | 27/33 [01:08<00:17,  2.93s/vacancy]"
     ]
    },
    {
     "name": "stdout",
     "output_type": "stream",
     "text": [
      "➡️  [28/33] Loading description: https://hh.ru/vacancy/116011758?query=CPO&hhtmFrom=vacancy_search_list\n"
     ]
    },
    {
     "name": "stderr",
     "output_type": "stream",
     "text": [
      "📥 Loading descriptions:  85%|████████████████████████████████████████████████████████████████████████████████████████████████████████████████████████████▋                      | 28/33 [01:10<00:13,  2.73s/vacancy]"
     ]
    },
    {
     "name": "stdout",
     "output_type": "stream",
     "text": [
      "➡️  [29/33] Loading description: https://hh.ru/vacancy/116080465?query=CPO&hhtmFrom=vacancy_search_list\n"
     ]
    },
    {
     "name": "stderr",
     "output_type": "stream",
     "text": [
      "📥 Loading descriptions:  88%|█████████████████████████████████████████████████████████████████████████████████████████████████████████████████████████████████▏                 | 29/33 [01:12<00:10,  2.62s/vacancy]"
     ]
    },
    {
     "name": "stdout",
     "output_type": "stream",
     "text": [
      "➡️  [30/33] Loading description: https://hh.ru/vacancy/112607881?query=CPO&hhtmFrom=vacancy_search_list\n"
     ]
    },
    {
     "name": "stderr",
     "output_type": "stream",
     "text": [
      "📥 Loading descriptions:  91%|█████████████████████████████████████████████████████████████████████████████████████████████████████████████████████████████████████▋             | 30/33 [01:15<00:07,  2.51s/vacancy]"
     ]
    },
    {
     "name": "stdout",
     "output_type": "stream",
     "text": [
      "➡️  [31/33] Loading description: https://hh.ru/vacancy/115682702?query=CPO&hhtmFrom=vacancy_search_list\n"
     ]
    },
    {
     "name": "stderr",
     "output_type": "stream",
     "text": [
      "📥 Loading descriptions:  94%|██████████████████████████████████████████████████████████████████████████████████████████████████████████████████████████████████████████         | 31/33 [01:18<00:05,  2.76s/vacancy]"
     ]
    },
    {
     "name": "stdout",
     "output_type": "stream",
     "text": [
      "➡️  [32/33] Loading description: https://hh.ru/vacancy/115915699?query=CPO&hhtmFrom=vacancy_search_list\n"
     ]
    },
    {
     "name": "stderr",
     "output_type": "stream",
     "text": [
      "📥 Loading descriptions:  97%|██████████████████████████████████████████████████████████████████████████████████████████████████████████████████████████████████████████████▌    | 32/33 [01:21<00:02,  2.72s/vacancy]"
     ]
    },
    {
     "name": "stdout",
     "output_type": "stream",
     "text": [
      "➡️  [33/33] Loading description: https://hh.ru/vacancy/116207548?query=CPO&hhtmFrom=vacancy_search_list\n"
     ]
    },
    {
     "name": "stderr",
     "output_type": "stream",
     "text": [
      "📥 Loading descriptions: 100%|███████████████████████████████████████████████████████████████████████████████████████████████████████████████████████████████████████████████████| 33/33 [01:23<00:00,  2.54s/vacancy]\n"
     ]
    },
    {
     "name": "stdout",
     "output_type": "stream",
     "text": [
      "<class 'pandas.core.frame.DataFrame'>\n",
      "RangeIndex: 33 entries, 0 to 32\n",
      "Data columns (total 5 columns):\n",
      " #   Column           Non-Null Count  Dtype \n",
      "---  ------           --------------  ----- \n",
      " 0   Link             33 non-null     object\n",
      " 1   Company          33 non-null     object\n",
      " 2   Job Title        33 non-null     object\n",
      " 3   Address          33 non-null     object\n",
      " 4   Job Description  33 non-null     object\n",
      "dtypes: object(5)\n",
      "memory usage: 1.4+ KB\n"
     ]
    }
   ],
   "execution_count": 51
  },
  {
   "cell_type": "code",
   "id": "3e92da614604e385",
   "metadata": {
    "ExecuteTime": {
     "end_time": "2025-02-09T11:29:22.531207Z",
     "start_time": "2025-02-09T11:29:22.507054Z"
    }
   },
   "source": "df_vacancies.head(100)",
   "outputs": [
    {
     "data": {
      "text/plain": [
       "                                                 Link  \\\n",
       "0   https://hh.ru/vacancy/115502560?query=CPO&hhtm...   \n",
       "1   https://hh.ru/vacancy/116713032?query=CPO&hhtm...   \n",
       "2   https://hh.ru/vacancy/116765704?query=CPO&hhtm...   \n",
       "3   https://hh.ru/vacancy/116764654?query=CPO&hhtm...   \n",
       "4   https://hh.ru/vacancy/116378472?query=CPO&hhtm...   \n",
       "5   https://hh.ru/vacancy/116855014?query=CPO&hhtm...   \n",
       "6   https://hh.ru/vacancy/115052808?query=CPO&hhtm...   \n",
       "7   https://hh.ru/vacancy/113713406?query=CPO&hhtm...   \n",
       "8   https://hh.ru/vacancy/116525081?query=CPO&hhtm...   \n",
       "9   https://hh.ru/vacancy/116674496?query=CPO&hhtm...   \n",
       "10  https://hh.ru/vacancy/115798845?query=CPO&hhtm...   \n",
       "11  https://hh.ru/vacancy/116083729?query=CPO&hhtm...   \n",
       "12  https://hh.ru/vacancy/116440886?query=CPO&hhtm...   \n",
       "13  https://hh.ru/vacancy/116846363?query=CPO&hhtm...   \n",
       "14  https://hh.ru/vacancy/115620446?query=CPO&hhtm...   \n",
       "15  https://hh.ru/vacancy/116835449?query=CPO&hhtm...   \n",
       "16  https://hh.ru/vacancy/115767697?query=CPO&hhtm...   \n",
       "17  https://hh.ru/vacancy/116010304?query=CPO&hhtm...   \n",
       "18  https://hh.ru/vacancy/116387434?query=CPO&hhtm...   \n",
       "19  https://hh.ru/vacancy/116509179?query=CPO&hhtm...   \n",
       "20  https://hh.ru/vacancy/115757928?query=CPO&hhtm...   \n",
       "21  https://hh.ru/vacancy/116520725?query=CPO&hhtm...   \n",
       "22  https://hh.ru/vacancy/115510506?query=CPO&hhtm...   \n",
       "23  https://hh.ru/vacancy/116232605?query=CPO&hhtm...   \n",
       "24  https://hh.ru/vacancy/113702449?query=CPO&hhtm...   \n",
       "25  https://hh.ru/vacancy/116197235?query=CPO&hhtm...   \n",
       "26  https://hh.ru/vacancy/115719741?query=CPO&hhtm...   \n",
       "27  https://hh.ru/vacancy/116011758?query=CPO&hhtm...   \n",
       "28  https://hh.ru/vacancy/116080465?query=CPO&hhtm...   \n",
       "29  https://hh.ru/vacancy/112607881?query=CPO&hhtm...   \n",
       "30  https://hh.ru/vacancy/115682702?query=CPO&hhtm...   \n",
       "31  https://hh.ru/vacancy/115915699?query=CPO&hhtm...   \n",
       "32  https://hh.ru/vacancy/116207548?query=CPO&hhtm...   \n",
       "\n",
       "                                        Company  \\\n",
       "0                                  Spice Agency   \n",
       "1                                       X5 Tech   \n",
       "2                                      Skycoach   \n",
       "3                                 ОООПлатежиТут   \n",
       "4                              StaffRecruitment   \n",
       "5                                     ОООДатаРу   \n",
       "6                                          АЭРО   \n",
       "7                                     ОООДиплей   \n",
       "8                     President Service Consult   \n",
       "9                                        Quiver   \n",
       "10                                 Spice Agency   \n",
       "11                                       PROFID   \n",
       "12                                   URBAN SOUL   \n",
       "13                                    99 БАЛЛОВ   \n",
       "14                                       Токеон   \n",
       "15                                BeautyClub365   \n",
       "16  ПАО ВТБ, Подразделения Поддержки и Контроля   \n",
       "17                                        QTECH   \n",
       "18                                Not specified   \n",
       "19                    АОНПФ ВТБ Пенсионный Фонд   \n",
       "20                                  Revoluterra   \n",
       "21                                    ООО DOGMA   \n",
       "22                          Платёжный сервис А3   \n",
       "23   Ак Барс Банк, Специалистам и руководителям   \n",
       "24                               АО Банк ДОМ.РФ   \n",
       "25                       ЧК BI Development Ltd.   \n",
       "26                                  Газпромбанк   \n",
       "27                                      Вебзайм   \n",
       "28                                    ООО ФинИТ   \n",
       "29                                  АО БКС Банк   \n",
       "30                    Группа НЛМК ИТ и Диджитал   \n",
       "31                                     СИНЕРГИЯ   \n",
       "32                            ИП ANDREI KOROLEV   \n",
       "\n",
       "                                            Job Title          Address  \\\n",
       "0    CPO/Chief Product Officer (marketplace & adtech)           Москва   \n",
       "1                                                 CPO           Москва   \n",
       "2   CPO / Chief Product Manager / Senior Product M...           Москва   \n",
       "3   CPO / Chief Product Manager / Senior Product M...           Москва   \n",
       "4        Руководитель продуктового департамента (CPO)           Москва   \n",
       "5                CPO (Chief Product Officer) Hardware           Москва   \n",
       "6   Chief Product Officer (CPO)/Директор по продук...           Москва   \n",
       "7                         Chief Product Officer [CPO]           Москва   \n",
       "8                           CPO в геймдев маркетплейс           Москва   \n",
       "9               Chief Product Officer / CPO (iGaming)           Москва   \n",
       "10                          CPO/Chief Product Officer           Москва   \n",
       "11  Chief Operating Officer (COO) / Executive Dire...              США   \n",
       "12  Руководитель продуктового отдела (Chief Produc...  Нижний Новгород   \n",
       "13                  Директор по продукту (CPO EdTech)           Москва   \n",
       "14       Chief Product Officer (CPO) на задачи BizDev           Москва   \n",
       "15  Руководитель продукта/директор по продукту/CPO...           Москва   \n",
       "16                           CPO (платежи и переводы)           Москва   \n",
       "17       Руководитель продуктового департамента (CPO)           Москва   \n",
       "18                     Директор по производству (CPO)  Нижний Новгород   \n",
       "19               Лидер направления digital продаж/CPO           Москва   \n",
       "20                Product owner / CPO (martech, saas)           Москва   \n",
       "21                               Бизнес-Ассистент CPO           Москва   \n",
       "22                          Директор по продуктам/CPO           Москва   \n",
       "23                         CPO корпоративного бизнеса           Москва   \n",
       "24               CPO (Chief product officer) Бэк-офис           Москва   \n",
       "25                        Chief Product Officer (CPO)           Астана   \n",
       "26                     CPO/PO по корпоративным картам           Москва   \n",
       "27  Директор по продукту (CPO / chief product offi...      Новосибирск   \n",
       "28                         Директор по продукту (CPO)           Москва   \n",
       "29  Директор по продукту Платежи и переводы (CPO D...           Москва   \n",
       "30  Руководитель программы КПиГ (Владелец продукта...           Москва   \n",
       "31                                       CPO (EdTech)           Москва   \n",
       "32                        Chief Product Officer (CPO)          Тбилиси   \n",
       "\n",
       "                                      Job Description  \n",
       "0   В крупный маркетплейс рекламных площадок, серв...  \n",
       "1   Формирование продуктовой стратегии компании. Р...  \n",
       "2   SkyСoach — это большой сервис внутриигровых ус...  \n",
       "3   Мы ищем талантливого и опытного CPO для руково...  \n",
       "4   Крупная IT-компания в России, занимающаяся раз...  \n",
       "5   Группа компаний DатаРу - российский вендор тех...  \n",
       "6   Привет! Мы АЭРО — провайдер e-Commerce и Data-...  \n",
       "7   deeplay — международная продуктовая ИТ-компани...  \n",
       "8   Наш клиент - маркетплейс игровых товаров, где ...  \n",
       "9   Мы — международная iGaming компания , специали...  \n",
       "10  CPO в martech продукт. Что нужно будет делать:...  \n",
       "11  Требования: • Отличное знание английского язык...  \n",
       "12  Мы ищем опытного Руководителя продуктового отд...  \n",
       "13  «99 БАЛЛОВ» - онлайн школа по подготовке к ЕГЭ...  \n",
       "14  Обязанности: 1) исполнение бизнес-стратегии 2)...  \n",
       "15  О компании: Более 10 лет мы работаем в сфере с...  \n",
       "16  Анализ, администрирование, установление и мони...  \n",
       "17  Руководство разработкой сценариев, функциональ...  \n",
       "18  Вакансия для матерых производственников. Нам н...  \n",
       "19  Негосударственный пенсионный фонд ВТБ - один и...  \n",
       "20  Revoluterra — это совместный высоконагруженный...  \n",
       "21  Активное участие в проектах: погружение в спец...  \n",
       "22  Мы аккредитованная продуктовая IT - компания в...  \n",
       "23  Проведение анализа рынка, предпочтений клиенто...  \n",
       "24  Управлять продуктами: выделение, описание, раз...  \n",
       "25  Исследование и анализ данных. Постановка задач...  \n",
       "26  Формирование цифрового cjm корпоративных клиен...  \n",
       "27  Разработка и реализация стратегии продукта моб...  \n",
       "28  Мы — молодая и быстро развивающаяся фин-тех ко...  \n",
       "29  Управлять Центром развития розничных банковски...  \n",
       "30  Координировать и участвовать в разработке разд...  \n",
       "31  Координация работы межфункциональной команды п...  \n",
       "32  Душевное *надеюсь* интро Мы небольшой стартап,...  "
      ],
      "text/html": [
       "<div>\n",
       "<style scoped>\n",
       "    .dataframe tbody tr th:only-of-type {\n",
       "        vertical-align: middle;\n",
       "    }\n",
       "\n",
       "    .dataframe tbody tr th {\n",
       "        vertical-align: top;\n",
       "    }\n",
       "\n",
       "    .dataframe thead th {\n",
       "        text-align: right;\n",
       "    }\n",
       "</style>\n",
       "<table border=\"1\" class=\"dataframe\">\n",
       "  <thead>\n",
       "    <tr style=\"text-align: right;\">\n",
       "      <th></th>\n",
       "      <th>Link</th>\n",
       "      <th>Company</th>\n",
       "      <th>Job Title</th>\n",
       "      <th>Address</th>\n",
       "      <th>Job Description</th>\n",
       "    </tr>\n",
       "  </thead>\n",
       "  <tbody>\n",
       "    <tr>\n",
       "      <th>0</th>\n",
       "      <td>https://hh.ru/vacancy/115502560?query=CPO&amp;hhtm...</td>\n",
       "      <td>Spice Agency</td>\n",
       "      <td>CPO/Chief Product Officer (marketplace &amp; adtech)</td>\n",
       "      <td>Москва</td>\n",
       "      <td>В крупный маркетплейс рекламных площадок, серв...</td>\n",
       "    </tr>\n",
       "    <tr>\n",
       "      <th>1</th>\n",
       "      <td>https://hh.ru/vacancy/116713032?query=CPO&amp;hhtm...</td>\n",
       "      <td>X5 Tech</td>\n",
       "      <td>CPO</td>\n",
       "      <td>Москва</td>\n",
       "      <td>Формирование продуктовой стратегии компании. Р...</td>\n",
       "    </tr>\n",
       "    <tr>\n",
       "      <th>2</th>\n",
       "      <td>https://hh.ru/vacancy/116765704?query=CPO&amp;hhtm...</td>\n",
       "      <td>Skycoach</td>\n",
       "      <td>CPO / Chief Product Manager / Senior Product M...</td>\n",
       "      <td>Москва</td>\n",
       "      <td>SkyСoach — это большой сервис внутриигровых ус...</td>\n",
       "    </tr>\n",
       "    <tr>\n",
       "      <th>3</th>\n",
       "      <td>https://hh.ru/vacancy/116764654?query=CPO&amp;hhtm...</td>\n",
       "      <td>ОООПлатежиТут</td>\n",
       "      <td>CPO / Chief Product Manager / Senior Product M...</td>\n",
       "      <td>Москва</td>\n",
       "      <td>Мы ищем талантливого и опытного CPO для руково...</td>\n",
       "    </tr>\n",
       "    <tr>\n",
       "      <th>4</th>\n",
       "      <td>https://hh.ru/vacancy/116378472?query=CPO&amp;hhtm...</td>\n",
       "      <td>StaffRecruitment</td>\n",
       "      <td>Руководитель продуктового департамента (CPO)</td>\n",
       "      <td>Москва</td>\n",
       "      <td>Крупная IT-компания в России, занимающаяся раз...</td>\n",
       "    </tr>\n",
       "    <tr>\n",
       "      <th>5</th>\n",
       "      <td>https://hh.ru/vacancy/116855014?query=CPO&amp;hhtm...</td>\n",
       "      <td>ОООДатаРу</td>\n",
       "      <td>CPO (Chief Product Officer) Hardware</td>\n",
       "      <td>Москва</td>\n",
       "      <td>Группа компаний DатаРу - российский вендор тех...</td>\n",
       "    </tr>\n",
       "    <tr>\n",
       "      <th>6</th>\n",
       "      <td>https://hh.ru/vacancy/115052808?query=CPO&amp;hhtm...</td>\n",
       "      <td>АЭРО</td>\n",
       "      <td>Chief Product Officer (CPO)/Директор по продук...</td>\n",
       "      <td>Москва</td>\n",
       "      <td>Привет! Мы АЭРО — провайдер e-Commerce и Data-...</td>\n",
       "    </tr>\n",
       "    <tr>\n",
       "      <th>7</th>\n",
       "      <td>https://hh.ru/vacancy/113713406?query=CPO&amp;hhtm...</td>\n",
       "      <td>ОООДиплей</td>\n",
       "      <td>Chief Product Officer [CPO]</td>\n",
       "      <td>Москва</td>\n",
       "      <td>deeplay — международная продуктовая ИТ-компани...</td>\n",
       "    </tr>\n",
       "    <tr>\n",
       "      <th>8</th>\n",
       "      <td>https://hh.ru/vacancy/116525081?query=CPO&amp;hhtm...</td>\n",
       "      <td>President Service Consult</td>\n",
       "      <td>CPO в геймдев маркетплейс</td>\n",
       "      <td>Москва</td>\n",
       "      <td>Наш клиент - маркетплейс игровых товаров, где ...</td>\n",
       "    </tr>\n",
       "    <tr>\n",
       "      <th>9</th>\n",
       "      <td>https://hh.ru/vacancy/116674496?query=CPO&amp;hhtm...</td>\n",
       "      <td>Quiver</td>\n",
       "      <td>Chief Product Officer / CPO (iGaming)</td>\n",
       "      <td>Москва</td>\n",
       "      <td>Мы — международная iGaming компания , специали...</td>\n",
       "    </tr>\n",
       "    <tr>\n",
       "      <th>10</th>\n",
       "      <td>https://hh.ru/vacancy/115798845?query=CPO&amp;hhtm...</td>\n",
       "      <td>Spice Agency</td>\n",
       "      <td>CPO/Chief Product Officer</td>\n",
       "      <td>Москва</td>\n",
       "      <td>CPO в martech продукт. Что нужно будет делать:...</td>\n",
       "    </tr>\n",
       "    <tr>\n",
       "      <th>11</th>\n",
       "      <td>https://hh.ru/vacancy/116083729?query=CPO&amp;hhtm...</td>\n",
       "      <td>PROFID</td>\n",
       "      <td>Chief Operating Officer (COO) / Executive Dire...</td>\n",
       "      <td>США</td>\n",
       "      <td>Требования: • Отличное знание английского язык...</td>\n",
       "    </tr>\n",
       "    <tr>\n",
       "      <th>12</th>\n",
       "      <td>https://hh.ru/vacancy/116440886?query=CPO&amp;hhtm...</td>\n",
       "      <td>URBAN SOUL</td>\n",
       "      <td>Руководитель продуктового отдела (Chief Produc...</td>\n",
       "      <td>Нижний Новгород</td>\n",
       "      <td>Мы ищем опытного Руководителя продуктового отд...</td>\n",
       "    </tr>\n",
       "    <tr>\n",
       "      <th>13</th>\n",
       "      <td>https://hh.ru/vacancy/116846363?query=CPO&amp;hhtm...</td>\n",
       "      <td>99 БАЛЛОВ</td>\n",
       "      <td>Директор по продукту (CPO EdTech)</td>\n",
       "      <td>Москва</td>\n",
       "      <td>«99 БАЛЛОВ» - онлайн школа по подготовке к ЕГЭ...</td>\n",
       "    </tr>\n",
       "    <tr>\n",
       "      <th>14</th>\n",
       "      <td>https://hh.ru/vacancy/115620446?query=CPO&amp;hhtm...</td>\n",
       "      <td>Токеон</td>\n",
       "      <td>Chief Product Officer (CPO) на задачи BizDev</td>\n",
       "      <td>Москва</td>\n",
       "      <td>Обязанности: 1) исполнение бизнес-стратегии 2)...</td>\n",
       "    </tr>\n",
       "    <tr>\n",
       "      <th>15</th>\n",
       "      <td>https://hh.ru/vacancy/116835449?query=CPO&amp;hhtm...</td>\n",
       "      <td>BeautyClub365</td>\n",
       "      <td>Руководитель продукта/директор по продукту/CPO...</td>\n",
       "      <td>Москва</td>\n",
       "      <td>О компании: Более 10 лет мы работаем в сфере с...</td>\n",
       "    </tr>\n",
       "    <tr>\n",
       "      <th>16</th>\n",
       "      <td>https://hh.ru/vacancy/115767697?query=CPO&amp;hhtm...</td>\n",
       "      <td>ПАО ВТБ, Подразделения Поддержки и Контроля</td>\n",
       "      <td>CPO (платежи и переводы)</td>\n",
       "      <td>Москва</td>\n",
       "      <td>Анализ, администрирование, установление и мони...</td>\n",
       "    </tr>\n",
       "    <tr>\n",
       "      <th>17</th>\n",
       "      <td>https://hh.ru/vacancy/116010304?query=CPO&amp;hhtm...</td>\n",
       "      <td>QTECH</td>\n",
       "      <td>Руководитель продуктового департамента (CPO)</td>\n",
       "      <td>Москва</td>\n",
       "      <td>Руководство разработкой сценариев, функциональ...</td>\n",
       "    </tr>\n",
       "    <tr>\n",
       "      <th>18</th>\n",
       "      <td>https://hh.ru/vacancy/116387434?query=CPO&amp;hhtm...</td>\n",
       "      <td>Not specified</td>\n",
       "      <td>Директор по производству (CPO)</td>\n",
       "      <td>Нижний Новгород</td>\n",
       "      <td>Вакансия для матерых производственников. Нам н...</td>\n",
       "    </tr>\n",
       "    <tr>\n",
       "      <th>19</th>\n",
       "      <td>https://hh.ru/vacancy/116509179?query=CPO&amp;hhtm...</td>\n",
       "      <td>АОНПФ ВТБ Пенсионный Фонд</td>\n",
       "      <td>Лидер направления digital продаж/CPO</td>\n",
       "      <td>Москва</td>\n",
       "      <td>Негосударственный пенсионный фонд ВТБ - один и...</td>\n",
       "    </tr>\n",
       "    <tr>\n",
       "      <th>20</th>\n",
       "      <td>https://hh.ru/vacancy/115757928?query=CPO&amp;hhtm...</td>\n",
       "      <td>Revoluterra</td>\n",
       "      <td>Product owner / CPO (martech, saas)</td>\n",
       "      <td>Москва</td>\n",
       "      <td>Revoluterra — это совместный высоконагруженный...</td>\n",
       "    </tr>\n",
       "    <tr>\n",
       "      <th>21</th>\n",
       "      <td>https://hh.ru/vacancy/116520725?query=CPO&amp;hhtm...</td>\n",
       "      <td>ООО DOGMA</td>\n",
       "      <td>Бизнес-Ассистент CPO</td>\n",
       "      <td>Москва</td>\n",
       "      <td>Активное участие в проектах: погружение в спец...</td>\n",
       "    </tr>\n",
       "    <tr>\n",
       "      <th>22</th>\n",
       "      <td>https://hh.ru/vacancy/115510506?query=CPO&amp;hhtm...</td>\n",
       "      <td>Платёжный сервис А3</td>\n",
       "      <td>Директор по продуктам/CPO</td>\n",
       "      <td>Москва</td>\n",
       "      <td>Мы аккредитованная продуктовая IT - компания в...</td>\n",
       "    </tr>\n",
       "    <tr>\n",
       "      <th>23</th>\n",
       "      <td>https://hh.ru/vacancy/116232605?query=CPO&amp;hhtm...</td>\n",
       "      <td>Ак Барс Банк, Специалистам и руководителям</td>\n",
       "      <td>CPO корпоративного бизнеса</td>\n",
       "      <td>Москва</td>\n",
       "      <td>Проведение анализа рынка, предпочтений клиенто...</td>\n",
       "    </tr>\n",
       "    <tr>\n",
       "      <th>24</th>\n",
       "      <td>https://hh.ru/vacancy/113702449?query=CPO&amp;hhtm...</td>\n",
       "      <td>АО Банк ДОМ.РФ</td>\n",
       "      <td>CPO (Chief product officer) Бэк-офис</td>\n",
       "      <td>Москва</td>\n",
       "      <td>Управлять продуктами: выделение, описание, раз...</td>\n",
       "    </tr>\n",
       "    <tr>\n",
       "      <th>25</th>\n",
       "      <td>https://hh.ru/vacancy/116197235?query=CPO&amp;hhtm...</td>\n",
       "      <td>ЧК BI Development Ltd.</td>\n",
       "      <td>Chief Product Officer (CPO)</td>\n",
       "      <td>Астана</td>\n",
       "      <td>Исследование и анализ данных. Постановка задач...</td>\n",
       "    </tr>\n",
       "    <tr>\n",
       "      <th>26</th>\n",
       "      <td>https://hh.ru/vacancy/115719741?query=CPO&amp;hhtm...</td>\n",
       "      <td>Газпромбанк</td>\n",
       "      <td>CPO/PO по корпоративным картам</td>\n",
       "      <td>Москва</td>\n",
       "      <td>Формирование цифрового cjm корпоративных клиен...</td>\n",
       "    </tr>\n",
       "    <tr>\n",
       "      <th>27</th>\n",
       "      <td>https://hh.ru/vacancy/116011758?query=CPO&amp;hhtm...</td>\n",
       "      <td>Вебзайм</td>\n",
       "      <td>Директор по продукту (CPO / chief product offi...</td>\n",
       "      <td>Новосибирск</td>\n",
       "      <td>Разработка и реализация стратегии продукта моб...</td>\n",
       "    </tr>\n",
       "    <tr>\n",
       "      <th>28</th>\n",
       "      <td>https://hh.ru/vacancy/116080465?query=CPO&amp;hhtm...</td>\n",
       "      <td>ООО ФинИТ</td>\n",
       "      <td>Директор по продукту (CPO)</td>\n",
       "      <td>Москва</td>\n",
       "      <td>Мы — молодая и быстро развивающаяся фин-тех ко...</td>\n",
       "    </tr>\n",
       "    <tr>\n",
       "      <th>29</th>\n",
       "      <td>https://hh.ru/vacancy/112607881?query=CPO&amp;hhtm...</td>\n",
       "      <td>АО БКС Банк</td>\n",
       "      <td>Директор по продукту Платежи и переводы (CPO D...</td>\n",
       "      <td>Москва</td>\n",
       "      <td>Управлять Центром развития розничных банковски...</td>\n",
       "    </tr>\n",
       "    <tr>\n",
       "      <th>30</th>\n",
       "      <td>https://hh.ru/vacancy/115682702?query=CPO&amp;hhtm...</td>\n",
       "      <td>Группа НЛМК ИТ и Диджитал</td>\n",
       "      <td>Руководитель программы КПиГ (Владелец продукта...</td>\n",
       "      <td>Москва</td>\n",
       "      <td>Координировать и участвовать в разработке разд...</td>\n",
       "    </tr>\n",
       "    <tr>\n",
       "      <th>31</th>\n",
       "      <td>https://hh.ru/vacancy/115915699?query=CPO&amp;hhtm...</td>\n",
       "      <td>СИНЕРГИЯ</td>\n",
       "      <td>CPO (EdTech)</td>\n",
       "      <td>Москва</td>\n",
       "      <td>Координация работы межфункциональной команды п...</td>\n",
       "    </tr>\n",
       "    <tr>\n",
       "      <th>32</th>\n",
       "      <td>https://hh.ru/vacancy/116207548?query=CPO&amp;hhtm...</td>\n",
       "      <td>ИП ANDREI KOROLEV</td>\n",
       "      <td>Chief Product Officer (CPO)</td>\n",
       "      <td>Тбилиси</td>\n",
       "      <td>Душевное *надеюсь* интро Мы небольшой стартап,...</td>\n",
       "    </tr>\n",
       "  </tbody>\n",
       "</table>\n",
       "</div>"
      ]
     },
     "execution_count": 52,
     "metadata": {},
     "output_type": "execute_result"
    }
   ],
   "execution_count": 52
  },
  {
   "metadata": {
    "ExecuteTime": {
     "end_time": "2025-02-09T11:29:39.717915Z",
     "start_time": "2025-02-09T11:29:39.668869Z"
    }
   },
   "cell_type": "code",
   "source": [
    "file_path = os.path.expanduser(\"~/pet-projects/jupyter-notebooks/vacancies_cpo.csv\")\n",
    "df_vacancies.to_csv(file_path, index=False)"
   ],
   "id": "46de1ddf3461dad8",
   "outputs": [],
   "execution_count": 53
  },
  {
   "metadata": {},
   "cell_type": "code",
   "outputs": [],
   "execution_count": null,
   "source": "# https://hh.ru/search/vacancy?text=CPO&search_field=name&excluded_text=&salary=&currency_code=RUR&experience=doesNotMatter&order_by=relevance&search_period=0&items_on_page=50&L_save_area=true&hhtmFrom=vacancy_search_filter",
   "id": "da1e099360b4b0e1"
  }
 ],
 "metadata": {
  "kernelspec": {
   "display_name": "Python 3 (ipykernel)",
   "language": "python",
   "name": "python3"
  },
  "language_info": {
   "codemirror_mode": {
    "name": "ipython",
    "version": 3
   },
   "file_extension": ".py",
   "mimetype": "text/x-python",
   "name": "python",
   "nbconvert_exporter": "python",
   "pygments_lexer": "ipython3",
   "version": "3.11.4"
  }
 },
 "nbformat": 4,
 "nbformat_minor": 5
}
