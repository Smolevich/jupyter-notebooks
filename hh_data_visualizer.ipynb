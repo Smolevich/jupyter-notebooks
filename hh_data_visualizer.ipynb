{
 "cells": [
  {
   "cell_type": "code",
   "execution_count": 28,
   "metadata": {},
   "outputs": [],
   "source": [
    "import os\n",
    "import pandas as pd\n",
    "from sqlalchemy import create_engine\n",
    "import json\n",
    "import time"
   ]
  },
  {
   "cell_type": "code",
   "execution_count": 29,
   "metadata": {},
   "outputs": [],
   "source": [
    "CONFIG_PATH = os.path.expanduser('~/pet-projects/jupyter-notebooks/config.json')"
   ]
  },
  {
   "cell_type": "code",
   "execution_count": 11,
   "metadata": {},
   "outputs": [],
   "source": [
    "\n",
    "def load_config():\n",
    "    \"\"\"Load configuration from config.json\"\"\"\n",
    "    try:\n",
    "        with open(CONFIG_PATH, 'r') as config_file:\n",
    "            return json.load(config_file)\n",
    "    except FileNotFoundError:\n",
    "        raise Exception(\"config.json file not found\")\n",
    "    except json.JSONDecodeError:\n",
    "        raise Exception(\"Error parsing config.json\")"
   ]
  },
  {
   "cell_type": "code",
   "execution_count": 26,
   "metadata": {},
   "outputs": [],
   "source": [
    "config = load_config()\n",
    "# Использую secure native протокол с портом 9440\n",
    "clickhouse_url = f\"clickhouse+native://default:{config['clickhouse_password']}@{config['clickhouse_host']}:9440/default?secure=True\"\n",
    "engine = create_engine(clickhouse_url, connect_args={'connect_timeout': 10, 'send_receive_timeout': 10})"
   ]
  },
  {
   "cell_type": "code",
   "execution_count": null,
   "metadata": {},
   "outputs": [],
   "source": [
    "# Параметры кеша\n",
    "cache_file = \"vacancies_cache.csv\"\n",
    "cache_duration = 86400  # 24 часа в секундах\n",
    "\n",
    "if os.path.exists(cache_file) and (time.time() - os.path.getmtime(cache_file)) < cache_duration:\n",
    "    # Загрузка из кеша\n",
    "    df = pd.read_csv(cache_file)\n",
    "    print(\"Данные загружены из кеша\")\n",
    "else:\n",
    "    # Выгрузка данных из ClickHouse и сохранение в кеш\n",
    "    query = \"SELECT * FROM vacancies_hh_ru\"\n",
    "    df = pd.read_sql(query, engine)\n",
    "    df.to_csv(cache_file, index=False)\n",
    "    print(\"Данные выгружены из ClickHouse и сохранены в кеш\")\n",
    "\n",
    "df.info()    "
   ]
  },
  {
   "cell_type": "code",
   "execution_count": null,
   "metadata": {},
   "outputs": [],
   "source": [
    "print(df['professional_role_names'].unique())"
   ]
  }
 ],
 "metadata": {
  "kernelspec": {
   "display_name": "Python 3 (ipykernel)",
   "language": "python",
   "name": "python3"
  },
  "language_info": {
   "codemirror_mode": {
    "name": "ipython",
    "version": 3
   },
   "file_extension": ".py",
   "mimetype": "text/x-python",
   "name": "python",
   "nbconvert_exporter": "python",
   "pygments_lexer": "ipython3",
   "version": "3.13.2"
  }
 },
 "nbformat": 4,
 "nbformat_minor": 2
}
