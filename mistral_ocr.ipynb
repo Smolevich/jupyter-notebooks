{
 "cells": [
  {
   "cell_type": "code",
   "execution_count": 23,
   "metadata": {},
   "outputs": [],
   "source": [
    "import os\n",
    "import json\n",
    "import base64\n",
    "from mistralai import Mistral\n"
   ]
  },
  {
   "cell_type": "code",
   "execution_count": 24,
   "metadata": {},
   "outputs": [],
   "source": [
    "CONFIG_PATH = os.path.expanduser('~/pet-projects/jupyter-notebooks/config.json')"
   ]
  },
  {
   "cell_type": "code",
   "execution_count": 9,
   "metadata": {},
   "outputs": [],
   "source": [
    "\n",
    "def load_config():\n",
    "    \"\"\"Load configuration from config.json\"\"\"\n",
    "    try:\n",
    "        with open(CONFIG_PATH, 'r') as config_file:\n",
    "            return json.load(config_file)\n",
    "    except FileNotFoundError:\n",
    "        raise Exception(\"config.json file not found\")\n",
    "    except json.JSONDecodeError:\n",
    "        raise Exception(\"Error parsing config.json\")"
   ]
  },
  {
   "cell_type": "code",
   "execution_count": null,
   "metadata": {},
   "outputs": [],
   "source": [
    "api_key = load_config()['mistral_api_key']"
   ]
  },
  {
   "cell_type": "code",
   "execution_count": null,
   "metadata": {},
   "outputs": [],
   "source": [
    "client = Mistral(api_key=api_key)\n",
    "\n",
    "ocr_response = client.ocr.process(\n",
    "    model=\"mistral-ocr-latest\",\n",
    "    document={\n",
    "        \"type\": \"document_url\",\n",
    "        \"document_url\": \"https://arxiv.org/pdf/2502.12115\"\n",
    "    },\n",
    "    include_image_base64=True\n",
    ")\n",
    "\n",
    "# Save the OCR response to a JSON file\n",
    "output_file = \"ocr_response.json\"\n",
    "with open(output_file, \"w\") as f:\n",
    "    # Convert OCRResponse object to a serializable dictionary\n",
    "    ocr_dict = ocr_response.model_dump() if hasattr(ocr_response, 'model_dump') else vars(ocr_response)\n",
    "    json.dump(ocr_dict, f, indent=4)\n",
    "\n",
    "print(f\"OCR response saved to {output_file}\")\n"
   ]
  },
  {
   "cell_type": "code",
   "execution_count": 25,
   "metadata": {},
   "outputs": [],
   "source": [
    "def json_to_markdown(json_file=\"ocr_response.json\", markdown_file=\"mistral_response.md\"):\n",
    "    \"\"\"\n",
    "    Read content from a JSON file and save it to a Markdown file.\n",
    "    \n",
    "    Args:\n",
    "        json_file (str): Path to the JSON file containing Mistral AI response\n",
    "        markdown_file (str): Path to the output Markdown file\n",
    "    \n",
    "    Returns:\n",
    "        str: Path to the saved Markdown file\n",
    "    \"\"\"\n",
    "    try:\n",
    "        # Read the JSON file\n",
    "        with open(json_file, 'r', encoding='utf-8') as f:\n",
    "            data = json.load(f)\n",
    "        \n",
    "        # Create directory for images if it doesn't exist\n",
    "        image_dir = os.path.dirname(markdown_file)\n",
    "        os.makedirs(image_dir, exist_ok=True)\n",
    "        \n",
    "        markdown_content = \"\"\n",
    "        \n",
    "        # Process pages from the OCR response\n",
    "        if 'pages' in data:\n",
    "            for page in data['pages']:\n",
    "                # Add page index as header\n",
    "                markdown_content += f\"## Page {page['index'] + 1}\\n\\n\"\n",
    "                \n",
    "                # Add the markdown content\n",
    "                if 'markdown' in page:\n",
    "                    page_markdown = page['markdown']\n",
    "                    markdown_content += page_markdown + \"\\n\\n\"\n",
    "                \n",
    "                # Process and save images\n",
    "                if 'images' in page and page['images']:\n",
    "                    for i, img in enumerate(page['images']):\n",
    "                        if 'image_base64' in img and 'id' in img:\n",
    "                            # Save the image to a file\n",
    "                            img_filename = f\"img-{i}.jpeg\"\n",
    "                            img_path = os.path.join(image_dir, img_filename)\n",
    "                            \n",
    "                            # Decode and save the base64 image\n",
    "                            try:\n",
    "                                # Remove potential header from base64 string\n",
    "                                base64_data = img['image_base64']\n",
    "                                if ',' in base64_data:\n",
    "                                    base64_data = base64_data.split(',', 1)[1]\n",
    "                                \n",
    "                                # Add reference to the image in markdown\n",
    "                                markdown_content += f\"![{img_filename}]({img_filename})\\n\\n\"\n",
    "                                \n",
    "                                # Decode and save the image\n",
    "                                img_data = base64.b64decode(base64_data)\n",
    "                                with open(img_path, 'wb') as img_file:\n",
    "                                    img_file.write(img_data)\n",
    "                                print(f\"Saved image: {img_path}\")\n",
    "                            except Exception as e:\n",
    "                                print(f\"Error saving image {img['id']}: {e}\")\n",
    "        \n",
    "        # Save to Markdown\n",
    "        with open(markdown_file, 'w', encoding='utf-8') as f:\n",
    "            f.write(markdown_content)\n",
    "        \n",
    "        print(f\"Content successfully saved to {markdown_file}\")\n",
    "        return markdown_file\n",
    "    \n",
    "    except Exception as e:\n",
    "        print(f\"Error processing file: {e}\")\n",
    "        return None"
   ]
  },
  {
   "cell_type": "code",
   "execution_count": null,
   "metadata": {},
   "outputs": [],
   "source": [
    "# Example usage in a notebook:\n",
    "json_file = os.path.expanduser('~/pet-projects/jupyter-notebooks/ocr_response.json')\n",
    "markdown_file = os.path.expanduser('~/pet-projects/jupyter-notebooks/mistral_output.md')\n",
    "json_to_markdown(json_file=json_file, markdown_file=markdown_file) "
   ]
  }
 ],
 "metadata": {
  "kernelspec": {
   "display_name": "Python 3 (ipykernel)",
   "language": "python",
   "name": "python3"
  },
  "language_info": {
   "codemirror_mode": {
    "name": "ipython",
    "version": 3
   },
   "file_extension": ".py",
   "mimetype": "text/x-python",
   "name": "python",
   "nbconvert_exporter": "python",
   "pygments_lexer": "ipython3",
   "version": "3.13.2"
  }
 },
 "nbformat": 4,
 "nbformat_minor": 2
}
